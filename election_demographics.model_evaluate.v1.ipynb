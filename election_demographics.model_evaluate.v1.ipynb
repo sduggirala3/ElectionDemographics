{
 "cells": [
  {
   "cell_type": "markdown",
   "metadata": {},
   "source": [
    "The measure of accuracy used here is a confusion matrix, which displays the true and false positive rates and the true and false negative rates. Using these rates, a hit rate will be calculated.\n",
    "Hit rate = TPR + TNR\n",
    "\n",
    "This metric is being used because this is a binary classification problem so we simply must see if the model is predicting the correct class or the incorrect class."
   ]
  },
  {
   "cell_type": "code",
   "execution_count": 1,
   "metadata": {},
   "outputs": [],
   "source": [
    "import pandas as pd\n",
    "import numpy as np\n",
    "from sklearn.model_selection import train_test_split\n",
    "from sklearn.linear_model import LogisticRegression\n",
    "import joblib\n",
    "import warnings\n",
    "warnings.filterwarnings(\"ignore\")"
   ]
  },
  {
   "cell_type": "code",
   "execution_count": 4,
   "metadata": {},
   "outputs": [],
   "source": [
    "# import dataset and get train and test data\n",
    "\n",
    "data = pd.read_csv('features_v3.csv')\n",
    "\n",
    "X = data[['totalpop', 'income', 'service', 'office', 'drive', 'carpool',\n",
    "           'transit', 'workathome', 'meancommute', 'unemployment',\n",
    "           'perc_men', 'perc_white', 'perc_private_work', 'perc_citizen', 'AL',\n",
    "           'AR', 'AZ', 'CA', 'CO', 'CT', 'DC', 'DE', 'FL', 'GA', 'HI', 'IA', 'ID',\n",
    "           'IL', 'IN', 'KS', 'KY', 'MA', 'MD', 'ME', 'MI', 'MN', 'MO', 'MS', 'MT',\n",
    "           'NC', 'ND', 'NE', 'NH', 'NJ', 'NM', 'NV', 'NY', 'OH', 'OK', 'OR', 'PA',\n",
    "           'RI', 'SC', 'SD', 'TN', 'TX', 'UT', 'VA', 'VT', 'WA', 'WI', 'WV', 'WY']]\n",
    "y = data['party']\n",
    "\n",
    "X_train, X_test, y_train, y_test = train_test_split(X, y, test_size=0.2)"
   ]
  },
  {
   "cell_type": "code",
   "execution_count": 8,
   "metadata": {},
   "outputs": [
    {
     "name": "stdout",
     "output_type": "stream",
     "text": [
      "0.9178981937602627\n"
     ]
    }
   ],
   "source": [
    "model = joblib.load('finalized_election_model.sav') # load in final model from v1 model training\n",
    "result = model.score(X_test, y_test) # on different train and test set\n",
    "print(result)\n",
    "# accuracy score"
   ]
  },
  {
   "cell_type": "code",
   "execution_count": null,
   "metadata": {},
   "outputs": [],
   "source": [
    "# Confusion Matrix, Accuracy, Precision, Recall, Specificity, True positive rate, True negative rate,\n",
    "# False positive rate, False negative rate, F1-score"
   ]
  },
  {
   "cell_type": "code",
   "execution_count": null,
   "metadata": {},
   "outputs": [],
   "source": [
    "# from model def,\n",
    "# model performance indicator will be true positive rate and true negative rate (hit rates) vs. \n",
    "    # false negative and false positive (miss rates)"
   ]
  },
  {
   "cell_type": "code",
   "execution_count": 9,
   "metadata": {},
   "outputs": [
    {
     "name": "stdout",
     "output_type": "stream",
     "text": [
      "[[ 64  39]\n",
      " [ 11 495]]\n"
     ]
    }
   ],
   "source": [
    "# confusion matrix (displays TPR, FPR, TNR, FNR)\n",
    "y_pred = model.predict(X_test)\n",
    "\n",
    "from sklearn.metrics import confusion_matrix\n",
    "confusion_matrix = confusion_matrix(y_test, y_pred)\n",
    "print(confusion_matrix)"
   ]
  },
  {
   "cell_type": "code",
   "execution_count": null,
   "metadata": {},
   "outputs": [],
   "source": [
    "# TPR = 64, # TNR = 495\n",
    "# FNR = 11, FPR = 39\n",
    "\n",
    "# hit rate = 92%\n",
    "# miss rate = 8%"
   ]
  },
  {
   "cell_type": "markdown",
   "metadata": {},
   "source": [
    "This is a good model."
   ]
  }
 ],
 "metadata": {
  "kernelspec": {
   "display_name": "Python 3",
   "language": "python",
   "name": "python3"
  },
  "language_info": {
   "codemirror_mode": {
    "name": "ipython",
    "version": 3
   },
   "file_extension": ".py",
   "mimetype": "text/x-python",
   "name": "python",
   "nbconvert_exporter": "python",
   "pygments_lexer": "ipython3",
   "version": "3.7.4"
  }
 },
 "nbformat": 4,
 "nbformat_minor": 2
}
