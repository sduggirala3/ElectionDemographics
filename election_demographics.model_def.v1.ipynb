{
 "cells": [
  {
   "cell_type": "markdown",
   "metadata": {},
   "source": [
    "## Choose and Justify Model Performance Indicator and Choice of Algorithm"
   ]
  },
  {
   "cell_type": "code",
   "execution_count": 1,
   "metadata": {},
   "outputs": [],
   "source": [
    "# need a binary classifier (R or D for each county)\n",
    "# logistic regression, support vector machine are options\n",
    "# for deep learning, simple neural network"
   ]
  },
  {
   "cell_type": "code",
   "execution_count": null,
   "metadata": {},
   "outputs": [],
   "source": [
    "# model performance indicator will be true positive rate and true negative rate (hit rates) vs. \n",
    "    # false negative and false positive (miss rates) because of "
   ]
  },
  {
   "cell_type": "markdown",
   "metadata": {},
   "source": [
    "## Generate Train and Test Sets"
   ]
  },
  {
   "cell_type": "code",
   "execution_count": 2,
   "metadata": {},
   "outputs": [],
   "source": [
    "import pandas as pd\n",
    "import numpy as np"
   ]
  },
  {
   "cell_type": "code",
   "execution_count": 8,
   "metadata": {},
   "outputs": [
    {
     "data": {
      "text/html": [
       "<div>\n",
       "<style scoped>\n",
       "    .dataframe tbody tr th:only-of-type {\n",
       "        vertical-align: middle;\n",
       "    }\n",
       "\n",
       "    .dataframe tbody tr th {\n",
       "        vertical-align: top;\n",
       "    }\n",
       "\n",
       "    .dataframe thead th {\n",
       "        text-align: right;\n",
       "    }\n",
       "</style>\n",
       "<table border=\"1\" class=\"dataframe\">\n",
       "  <thead>\n",
       "    <tr style=\"text-align: right;\">\n",
       "      <th></th>\n",
       "      <th>totalpop</th>\n",
       "      <th>income</th>\n",
       "      <th>service</th>\n",
       "      <th>office</th>\n",
       "      <th>drive</th>\n",
       "      <th>carpool</th>\n",
       "      <th>transit</th>\n",
       "      <th>workathome</th>\n",
       "      <th>meancommute</th>\n",
       "      <th>unemployment</th>\n",
       "      <th>perc_men</th>\n",
       "      <th>perc_white</th>\n",
       "      <th>perc_private_work</th>\n",
       "      <th>perc_citizen</th>\n",
       "      <th>party</th>\n",
       "    </tr>\n",
       "  </thead>\n",
       "  <tbody>\n",
       "    <tr>\n",
       "      <td>0</td>\n",
       "      <td>10038388.0</td>\n",
       "      <td>56196.0</td>\n",
       "      <td>0.191</td>\n",
       "      <td>0.246</td>\n",
       "      <td>0.730</td>\n",
       "      <td>0.099</td>\n",
       "      <td>0.068</td>\n",
       "      <td>0.051</td>\n",
       "      <td>0.300</td>\n",
       "      <td>0.100</td>\n",
       "      <td>0.492644</td>\n",
       "      <td>0.275897</td>\n",
       "      <td>0.789211</td>\n",
       "      <td>0.602363</td>\n",
       "      <td>0</td>\n",
       "    </tr>\n",
       "    <tr>\n",
       "      <td>1</td>\n",
       "      <td>5236393.0</td>\n",
       "      <td>55251.0</td>\n",
       "      <td>0.182</td>\n",
       "      <td>0.244</td>\n",
       "      <td>0.621</td>\n",
       "      <td>0.087</td>\n",
       "      <td>0.184</td>\n",
       "      <td>0.042</td>\n",
       "      <td>0.323</td>\n",
       "      <td>0.107</td>\n",
       "      <td>0.484541</td>\n",
       "      <td>0.438454</td>\n",
       "      <td>0.839000</td>\n",
       "      <td>0.668383</td>\n",
       "      <td>0</td>\n",
       "    </tr>\n",
       "    <tr>\n",
       "      <td>2</td>\n",
       "      <td>4356362.0</td>\n",
       "      <td>54457.0</td>\n",
       "      <td>0.174</td>\n",
       "      <td>0.235</td>\n",
       "      <td>0.792</td>\n",
       "      <td>0.111</td>\n",
       "      <td>0.029</td>\n",
       "      <td>0.033</td>\n",
       "      <td>0.282</td>\n",
       "      <td>0.075</td>\n",
       "      <td>0.497371</td>\n",
       "      <td>0.321501</td>\n",
       "      <td>0.834835</td>\n",
       "      <td>0.572664</td>\n",
       "      <td>0</td>\n",
       "    </tr>\n",
       "    <tr>\n",
       "      <td>3</td>\n",
       "      <td>4018143.0</td>\n",
       "      <td>54229.0</td>\n",
       "      <td>0.184</td>\n",
       "      <td>0.272</td>\n",
       "      <td>0.765</td>\n",
       "      <td>0.110</td>\n",
       "      <td>0.024</td>\n",
       "      <td>0.059</td>\n",
       "      <td>0.255</td>\n",
       "      <td>0.077</td>\n",
       "      <td>0.494297</td>\n",
       "      <td>0.585890</td>\n",
       "      <td>0.824176</td>\n",
       "      <td>0.661961</td>\n",
       "      <td>1</td>\n",
       "    </tr>\n",
       "    <tr>\n",
       "      <td>4</td>\n",
       "      <td>2639042.0</td>\n",
       "      <td>43129.0</td>\n",
       "      <td>0.210</td>\n",
       "      <td>0.282</td>\n",
       "      <td>0.769</td>\n",
       "      <td>0.092</td>\n",
       "      <td>0.055</td>\n",
       "      <td>0.043</td>\n",
       "      <td>0.299</td>\n",
       "      <td>0.100</td>\n",
       "      <td>0.485108</td>\n",
       "      <td>0.152371</td>\n",
       "      <td>0.819000</td>\n",
       "      <td>0.576567</td>\n",
       "      <td>0</td>\n",
       "    </tr>\n",
       "    <tr>\n",
       "      <td>...</td>\n",
       "      <td>...</td>\n",
       "      <td>...</td>\n",
       "      <td>...</td>\n",
       "      <td>...</td>\n",
       "      <td>...</td>\n",
       "      <td>...</td>\n",
       "      <td>...</td>\n",
       "      <td>...</td>\n",
       "      <td>...</td>\n",
       "      <td>...</td>\n",
       "      <td>...</td>\n",
       "      <td>...</td>\n",
       "      <td>...</td>\n",
       "      <td>...</td>\n",
       "      <td>...</td>\n",
       "    </tr>\n",
       "    <tr>\n",
       "      <td>3040</td>\n",
       "      <td>433.0</td>\n",
       "      <td>54306.0</td>\n",
       "      <td>0.104</td>\n",
       "      <td>0.279</td>\n",
       "      <td>0.475</td>\n",
       "      <td>0.097</td>\n",
       "      <td>0.000</td>\n",
       "      <td>0.226</td>\n",
       "      <td>0.320</td>\n",
       "      <td>0.009</td>\n",
       "      <td>0.515012</td>\n",
       "      <td>0.990854</td>\n",
       "      <td>0.693307</td>\n",
       "      <td>0.787529</td>\n",
       "      <td>1</td>\n",
       "    </tr>\n",
       "    <tr>\n",
       "      <td>3041</td>\n",
       "      <td>901.0</td>\n",
       "      <td>33672.0</td>\n",
       "      <td>0.206</td>\n",
       "      <td>0.120</td>\n",
       "      <td>0.677</td>\n",
       "      <td>0.156</td>\n",
       "      <td>0.000</td>\n",
       "      <td>0.038</td>\n",
       "      <td>0.170</td>\n",
       "      <td>0.039</td>\n",
       "      <td>0.488346</td>\n",
       "      <td>0.584337</td>\n",
       "      <td>0.744000</td>\n",
       "      <td>0.479467</td>\n",
       "      <td>1</td>\n",
       "    </tr>\n",
       "    <tr>\n",
       "      <td>3042</td>\n",
       "      <td>448.0</td>\n",
       "      <td>39375.0</td>\n",
       "      <td>0.109</td>\n",
       "      <td>0.041</td>\n",
       "      <td>0.522</td>\n",
       "      <td>0.156</td>\n",
       "      <td>0.000</td>\n",
       "      <td>0.199</td>\n",
       "      <td>0.195</td>\n",
       "      <td>0.040</td>\n",
       "      <td>0.497768</td>\n",
       "      <td>1.000000</td>\n",
       "      <td>0.544000</td>\n",
       "      <td>0.694196</td>\n",
       "      <td>1</td>\n",
       "    </tr>\n",
       "    <tr>\n",
       "      <td>3043</td>\n",
       "      <td>565.0</td>\n",
       "      <td>36438.0</td>\n",
       "      <td>0.341</td>\n",
       "      <td>0.205</td>\n",
       "      <td>0.946</td>\n",
       "      <td>0.000</td>\n",
       "      <td>0.000</td>\n",
       "      <td>0.000</td>\n",
       "      <td>0.166</td>\n",
       "      <td>0.000</td>\n",
       "      <td>0.522124</td>\n",
       "      <td>0.336000</td>\n",
       "      <td>0.519000</td>\n",
       "      <td>0.559292</td>\n",
       "      <td>0</td>\n",
       "    </tr>\n",
       "    <tr>\n",
       "      <td>3044</td>\n",
       "      <td>267.0</td>\n",
       "      <td>63250.0</td>\n",
       "      <td>0.102</td>\n",
       "      <td>0.139</td>\n",
       "      <td>0.886</td>\n",
       "      <td>0.000</td>\n",
       "      <td>0.000</td>\n",
       "      <td>0.036</td>\n",
       "      <td>0.116</td>\n",
       "      <td>0.051</td>\n",
       "      <td>0.509363</td>\n",
       "      <td>0.753000</td>\n",
       "      <td>0.729000</td>\n",
       "      <td>0.745318</td>\n",
       "      <td>1</td>\n",
       "    </tr>\n",
       "  </tbody>\n",
       "</table>\n",
       "<p>3045 rows × 15 columns</p>\n",
       "</div>"
      ],
      "text/plain": [
       "        totalpop   income  service  office  drive  carpool  transit  \\\n",
       "0     10038388.0  56196.0    0.191   0.246  0.730    0.099    0.068   \n",
       "1      5236393.0  55251.0    0.182   0.244  0.621    0.087    0.184   \n",
       "2      4356362.0  54457.0    0.174   0.235  0.792    0.111    0.029   \n",
       "3      4018143.0  54229.0    0.184   0.272  0.765    0.110    0.024   \n",
       "4      2639042.0  43129.0    0.210   0.282  0.769    0.092    0.055   \n",
       "...          ...      ...      ...     ...    ...      ...      ...   \n",
       "3040       433.0  54306.0    0.104   0.279  0.475    0.097    0.000   \n",
       "3041       901.0  33672.0    0.206   0.120  0.677    0.156    0.000   \n",
       "3042       448.0  39375.0    0.109   0.041  0.522    0.156    0.000   \n",
       "3043       565.0  36438.0    0.341   0.205  0.946    0.000    0.000   \n",
       "3044       267.0  63250.0    0.102   0.139  0.886    0.000    0.000   \n",
       "\n",
       "      workathome  meancommute  unemployment  perc_men  perc_white  \\\n",
       "0          0.051        0.300         0.100  0.492644    0.275897   \n",
       "1          0.042        0.323         0.107  0.484541    0.438454   \n",
       "2          0.033        0.282         0.075  0.497371    0.321501   \n",
       "3          0.059        0.255         0.077  0.494297    0.585890   \n",
       "4          0.043        0.299         0.100  0.485108    0.152371   \n",
       "...          ...          ...           ...       ...         ...   \n",
       "3040       0.226        0.320         0.009  0.515012    0.990854   \n",
       "3041       0.038        0.170         0.039  0.488346    0.584337   \n",
       "3042       0.199        0.195         0.040  0.497768    1.000000   \n",
       "3043       0.000        0.166         0.000  0.522124    0.336000   \n",
       "3044       0.036        0.116         0.051  0.509363    0.753000   \n",
       "\n",
       "      perc_private_work  perc_citizen  party  \n",
       "0              0.789211      0.602363      0  \n",
       "1              0.839000      0.668383      0  \n",
       "2              0.834835      0.572664      0  \n",
       "3              0.824176      0.661961      1  \n",
       "4              0.819000      0.576567      0  \n",
       "...                 ...           ...    ...  \n",
       "3040           0.693307      0.787529      1  \n",
       "3041           0.744000      0.479467      1  \n",
       "3042           0.544000      0.694196      1  \n",
       "3043           0.519000      0.559292      0  \n",
       "3044           0.729000      0.745318      1  \n",
       "\n",
       "[3045 rows x 15 columns]"
      ]
     },
     "execution_count": 8,
     "metadata": {},
     "output_type": "execute_result"
    }
   ],
   "source": [
    "# import dataset\n",
    "\n",
    "data = pd.read_csv('features_v2.csv')\n",
    "data"
   ]
  },
  {
   "cell_type": "code",
   "execution_count": 10,
   "metadata": {},
   "outputs": [],
   "source": [
    "from sklearn.model_selection import train_test_split\n",
    "\n",
    "X = data[data.columns[:-1]]\n",
    "y = data['party']\n",
    "\n",
    "X_train, X_test, y_train, y_test = train_test_split(X, y, test_size=0.2)"
   ]
  },
  {
   "cell_type": "markdown",
   "metadata": {},
   "source": [
    "# Logistic Regression"
   ]
  },
  {
   "cell_type": "markdown",
   "metadata": {},
   "source": [
    "### Implement Logistic Regression"
   ]
  },
  {
   "cell_type": "code",
   "execution_count": 11,
   "metadata": {},
   "outputs": [
    {
     "name": "stderr",
     "output_type": "stream",
     "text": [
      "/Users/soujanyaibm.com/opt/anaconda3/lib/python3.7/site-packages/sklearn/linear_model/logistic.py:432: FutureWarning: Default solver will be changed to 'lbfgs' in 0.22. Specify a solver to silence this warning.\n",
      "  FutureWarning)\n"
     ]
    },
    {
     "data": {
      "text/plain": [
       "LogisticRegression(C=1.0, class_weight=None, dual=False, fit_intercept=True,\n",
       "                   intercept_scaling=1, l1_ratio=None, max_iter=100,\n",
       "                   multi_class='warn', n_jobs=None, penalty='l2',\n",
       "                   random_state=None, solver='warn', tol=0.0001, verbose=0,\n",
       "                   warm_start=False)"
      ]
     },
     "execution_count": 11,
     "metadata": {},
     "output_type": "execute_result"
    }
   ],
   "source": [
    "from sklearn.linear_model import LogisticRegression\n",
    "model = LogisticRegression()\n",
    "\n",
    "model.fit(X_train, y_train)"
   ]
  },
  {
   "cell_type": "markdown",
   "metadata": {},
   "source": [
    "### Predict"
   ]
  },
  {
   "cell_type": "code",
   "execution_count": 13,
   "metadata": {},
   "outputs": [],
   "source": [
    "y_pred = model.predict(X_test)"
   ]
  },
  {
   "cell_type": "markdown",
   "metadata": {},
   "source": [
    "### Evaluation"
   ]
  },
  {
   "cell_type": "code",
   "execution_count": 14,
   "metadata": {},
   "outputs": [
    {
     "data": {
      "text/plain": [
       "0.8702791461412152"
      ]
     },
     "execution_count": 14,
     "metadata": {},
     "output_type": "execute_result"
    }
   ],
   "source": [
    "model.score(X_test, y_test)"
   ]
  },
  {
   "cell_type": "code",
   "execution_count": 19,
   "metadata": {},
   "outputs": [
    {
     "name": "stdout",
     "output_type": "stream",
     "text": [
      "[[ 24  73]\n",
      " [  6 506]]\n"
     ]
    }
   ],
   "source": [
    "    from sklearn.metrics import confusion_matrix\n",
    "    confusion_matrix = confusion_matrix(y_test, y_pred)\n",
    "    print(confusion_matrix)"
   ]
  },
  {
   "cell_type": "markdown",
   "metadata": {},
   "source": [
    "# Neural Network"
   ]
  },
  {
   "cell_type": "code",
   "execution_count": 24,
   "metadata": {},
   "outputs": [
    {
     "data": {
      "text/plain": [
       "(3045, 14)"
      ]
     },
     "execution_count": 24,
     "metadata": {},
     "output_type": "execute_result"
    }
   ],
   "source": [
    "X.shape # 14 node input layer"
   ]
  },
  {
   "cell_type": "code",
   "execution_count": null,
   "metadata": {},
   "outputs": [],
   "source": [
    "# 24 node dense layer with sigmoid activation\n",
    "# sigmoid output layer"
   ]
  },
  {
   "cell_type": "markdown",
   "metadata": {},
   "source": [
    "### Implement Neural Network"
   ]
  },
  {
   "cell_type": "code",
   "execution_count": 45,
   "metadata": {},
   "outputs": [],
   "source": [
    "from keras.layers import Dense\n",
    "from keras.layers import Input\n",
    "from keras.models import Sequential\n",
    "import keras.optimizers\n",
    "import keras.metrics as metrics\n",
    "\n",
    "model = Sequential()\n",
    "model.add(Dense(14, input_dim=14, activation='relu'))\n",
    "model.add(Dense(20, activation='relu'))\n",
    "model.add(Dense(1, activation='sigmoid'))\n",
    "\n",
    "model.compile(optimizer='adam', loss='binary_crossentropy', metrics=[metrics.BinaryAccuracy(),metrics.AUC()])\n",
    "\n",
    "model.fit(X_train, y_train)"
   ]
  },
  {
   "cell_type": "markdown",
   "metadata": {},
   "source": [
    "### Predict & Evaluate"
   ]
  },
  {
   "cell_type": "code",
   "execution_count": 47,
   "metadata": {},
   "outputs": [
    {
     "name": "stdout",
     "output_type": "stream",
     "text": [
      "609/609 [==============================] - 0s 96us/step\n"
     ]
    }
   ],
   "source": [
    "test_loss, test_acc = model.evaluate(X_test, y_test)[:2]"
   ]
  },
  {
   "cell_type": "code",
   "execution_count": 48,
   "metadata": {},
   "outputs": [
    {
     "name": "stdout",
     "output_type": "stream",
     "text": [
      "50.79996990335399 0.8210180401802063\n"
     ]
    }
   ],
   "source": [
    "print(test_loss, test_acc)"
   ]
  },
  {
   "cell_type": "markdown",
   "metadata": {},
   "source": [
    "# Conclusion"
   ]
  },
  {
   "cell_type": "markdown",
   "metadata": {},
   "source": [
    "From the first preliminary run, logistic regression has 0.87 accuracy, and the neural network has 0.82 accuracy.\n",
    "\n",
    "Next, I will try a logistic regression model and a neural network with all columns scaled between 0 and 1 and with state dummy variables."
   ]
  },
  {
   "cell_type": "code",
   "execution_count": null,
   "metadata": {},
   "outputs": [],
   "source": []
  }
 ],
 "metadata": {
  "kernelspec": {
   "display_name": "Python 3",
   "language": "python",
   "name": "python3"
  },
  "language_info": {
   "codemirror_mode": {
    "name": "ipython",
    "version": 3
   },
   "file_extension": ".py",
   "mimetype": "text/x-python",
   "name": "python",
   "nbconvert_exporter": "python",
   "pygments_lexer": "ipython3",
   "version": "3.7.4"
  }
 },
 "nbformat": 4,
 "nbformat_minor": 2
}
