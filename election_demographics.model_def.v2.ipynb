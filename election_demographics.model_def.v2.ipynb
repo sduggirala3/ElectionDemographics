{
 "cells": [
  {
   "cell_type": "markdown",
   "metadata": {},
   "source": [
    "## Choose and Justify Model Performance Indicator and Choice of Algorithm"
   ]
  },
  {
   "cell_type": "code",
   "execution_count": 1,
   "metadata": {},
   "outputs": [],
   "source": [
    "# need a binary classifier (R or D for each county)\n",
    "# logistic regression, support vector machine are options\n",
    "# for deep learning, simple neural network"
   ]
  },
  {
   "cell_type": "code",
   "execution_count": 2,
   "metadata": {},
   "outputs": [],
   "source": [
    "# model performance indicator will be true positive rate and true negative rate (hit rates) vs. \n",
    "    # false negative and false positive (miss rates) because of "
   ]
  },
  {
   "cell_type": "markdown",
   "metadata": {},
   "source": [
    "## Generate Train and Test Sets"
   ]
  },
  {
   "cell_type": "code",
   "execution_count": 4,
   "metadata": {},
   "outputs": [],
   "source": [
    "import pandas as pd\n",
    "import numpy as np"
   ]
  },
  {
   "cell_type": "code",
   "execution_count": 2,
   "metadata": {},
   "outputs": [
    {
     "data": {
      "text/html": [
       "<div>\n",
       "<style scoped>\n",
       "    .dataframe tbody tr th:only-of-type {\n",
       "        vertical-align: middle;\n",
       "    }\n",
       "\n",
       "    .dataframe tbody tr th {\n",
       "        vertical-align: top;\n",
       "    }\n",
       "\n",
       "    .dataframe thead th {\n",
       "        text-align: right;\n",
       "    }\n",
       "</style>\n",
       "<table border=\"1\" class=\"dataframe\">\n",
       "  <thead>\n",
       "    <tr style=\"text-align: right;\">\n",
       "      <th></th>\n",
       "      <th>party</th>\n",
       "      <th>totalpop</th>\n",
       "      <th>income</th>\n",
       "      <th>service</th>\n",
       "      <th>office</th>\n",
       "      <th>drive</th>\n",
       "      <th>carpool</th>\n",
       "      <th>transit</th>\n",
       "      <th>workathome</th>\n",
       "      <th>meancommute</th>\n",
       "      <th>...</th>\n",
       "      <th>SD</th>\n",
       "      <th>TN</th>\n",
       "      <th>TX</th>\n",
       "      <th>UT</th>\n",
       "      <th>VA</th>\n",
       "      <th>VT</th>\n",
       "      <th>WA</th>\n",
       "      <th>WI</th>\n",
       "      <th>WV</th>\n",
       "      <th>WY</th>\n",
       "    </tr>\n",
       "  </thead>\n",
       "  <tbody>\n",
       "    <tr>\n",
       "      <td>0</td>\n",
       "      <td>0.0</td>\n",
       "      <td>1.000000</td>\n",
       "      <td>0.354074</td>\n",
       "      <td>0.446203</td>\n",
       "      <td>0.654952</td>\n",
       "      <td>0.755932</td>\n",
       "      <td>0.331104</td>\n",
       "      <td>0.110211</td>\n",
       "      <td>0.137097</td>\n",
       "      <td>0.593023</td>\n",
       "      <td>...</td>\n",
       "      <td>0.0</td>\n",
       "      <td>0.0</td>\n",
       "      <td>0.0</td>\n",
       "      <td>0.0</td>\n",
       "      <td>0.0</td>\n",
       "      <td>0.0</td>\n",
       "      <td>0.0</td>\n",
       "      <td>0.0</td>\n",
       "      <td>0.0</td>\n",
       "      <td>0.0</td>\n",
       "    </tr>\n",
       "    <tr>\n",
       "      <td>1</td>\n",
       "      <td>0.0</td>\n",
       "      <td>0.521624</td>\n",
       "      <td>0.344999</td>\n",
       "      <td>0.417722</td>\n",
       "      <td>0.648562</td>\n",
       "      <td>0.632768</td>\n",
       "      <td>0.290970</td>\n",
       "      <td>0.298217</td>\n",
       "      <td>0.112903</td>\n",
       "      <td>0.659884</td>\n",
       "      <td>...</td>\n",
       "      <td>0.0</td>\n",
       "      <td>0.0</td>\n",
       "      <td>0.0</td>\n",
       "      <td>0.0</td>\n",
       "      <td>0.0</td>\n",
       "      <td>0.0</td>\n",
       "      <td>0.0</td>\n",
       "      <td>0.0</td>\n",
       "      <td>0.0</td>\n",
       "      <td>0.0</td>\n",
       "    </tr>\n",
       "    <tr>\n",
       "      <td>2</td>\n",
       "      <td>0.0</td>\n",
       "      <td>0.433955</td>\n",
       "      <td>0.337373</td>\n",
       "      <td>0.392405</td>\n",
       "      <td>0.619808</td>\n",
       "      <td>0.825989</td>\n",
       "      <td>0.371237</td>\n",
       "      <td>0.047002</td>\n",
       "      <td>0.088710</td>\n",
       "      <td>0.540698</td>\n",
       "      <td>...</td>\n",
       "      <td>0.0</td>\n",
       "      <td>0.0</td>\n",
       "      <td>1.0</td>\n",
       "      <td>0.0</td>\n",
       "      <td>0.0</td>\n",
       "      <td>0.0</td>\n",
       "      <td>0.0</td>\n",
       "      <td>0.0</td>\n",
       "      <td>0.0</td>\n",
       "      <td>0.0</td>\n",
       "    </tr>\n",
       "    <tr>\n",
       "      <td>3</td>\n",
       "      <td>1.0</td>\n",
       "      <td>0.400262</td>\n",
       "      <td>0.335184</td>\n",
       "      <td>0.424051</td>\n",
       "      <td>0.738019</td>\n",
       "      <td>0.795480</td>\n",
       "      <td>0.367893</td>\n",
       "      <td>0.038898</td>\n",
       "      <td>0.158602</td>\n",
       "      <td>0.462209</td>\n",
       "      <td>...</td>\n",
       "      <td>0.0</td>\n",
       "      <td>0.0</td>\n",
       "      <td>0.0</td>\n",
       "      <td>0.0</td>\n",
       "      <td>0.0</td>\n",
       "      <td>0.0</td>\n",
       "      <td>0.0</td>\n",
       "      <td>0.0</td>\n",
       "      <td>0.0</td>\n",
       "      <td>0.0</td>\n",
       "    </tr>\n",
       "    <tr>\n",
       "      <td>4</td>\n",
       "      <td>0.0</td>\n",
       "      <td>0.262875</td>\n",
       "      <td>0.228581</td>\n",
       "      <td>0.506329</td>\n",
       "      <td>0.769968</td>\n",
       "      <td>0.800000</td>\n",
       "      <td>0.307692</td>\n",
       "      <td>0.089141</td>\n",
       "      <td>0.115591</td>\n",
       "      <td>0.590116</td>\n",
       "      <td>...</td>\n",
       "      <td>0.0</td>\n",
       "      <td>0.0</td>\n",
       "      <td>0.0</td>\n",
       "      <td>0.0</td>\n",
       "      <td>0.0</td>\n",
       "      <td>0.0</td>\n",
       "      <td>0.0</td>\n",
       "      <td>0.0</td>\n",
       "      <td>0.0</td>\n",
       "      <td>0.0</td>\n",
       "    </tr>\n",
       "    <tr>\n",
       "      <td>...</td>\n",
       "      <td>...</td>\n",
       "      <td>...</td>\n",
       "      <td>...</td>\n",
       "      <td>...</td>\n",
       "      <td>...</td>\n",
       "      <td>...</td>\n",
       "      <td>...</td>\n",
       "      <td>...</td>\n",
       "      <td>...</td>\n",
       "      <td>...</td>\n",
       "      <td>...</td>\n",
       "      <td>...</td>\n",
       "      <td>...</td>\n",
       "      <td>...</td>\n",
       "      <td>...</td>\n",
       "      <td>...</td>\n",
       "      <td>...</td>\n",
       "      <td>...</td>\n",
       "      <td>...</td>\n",
       "      <td>...</td>\n",
       "      <td>...</td>\n",
       "    </tr>\n",
       "    <tr>\n",
       "      <td>3040</td>\n",
       "      <td>1.0</td>\n",
       "      <td>0.000017</td>\n",
       "      <td>0.335923</td>\n",
       "      <td>0.170886</td>\n",
       "      <td>0.760383</td>\n",
       "      <td>0.467797</td>\n",
       "      <td>0.324415</td>\n",
       "      <td>0.000000</td>\n",
       "      <td>0.607527</td>\n",
       "      <td>0.651163</td>\n",
       "      <td>...</td>\n",
       "      <td>0.0</td>\n",
       "      <td>0.0</td>\n",
       "      <td>0.0</td>\n",
       "      <td>0.0</td>\n",
       "      <td>0.0</td>\n",
       "      <td>0.0</td>\n",
       "      <td>0.0</td>\n",
       "      <td>0.0</td>\n",
       "      <td>0.0</td>\n",
       "      <td>0.0</td>\n",
       "    </tr>\n",
       "    <tr>\n",
       "      <td>3041</td>\n",
       "      <td>1.0</td>\n",
       "      <td>0.000063</td>\n",
       "      <td>0.137758</td>\n",
       "      <td>0.493671</td>\n",
       "      <td>0.252396</td>\n",
       "      <td>0.696045</td>\n",
       "      <td>0.521739</td>\n",
       "      <td>0.000000</td>\n",
       "      <td>0.102151</td>\n",
       "      <td>0.215116</td>\n",
       "      <td>...</td>\n",
       "      <td>0.0</td>\n",
       "      <td>0.0</td>\n",
       "      <td>0.0</td>\n",
       "      <td>0.0</td>\n",
       "      <td>0.0</td>\n",
       "      <td>0.0</td>\n",
       "      <td>0.0</td>\n",
       "      <td>0.0</td>\n",
       "      <td>0.0</td>\n",
       "      <td>0.0</td>\n",
       "    </tr>\n",
       "    <tr>\n",
       "      <td>3042</td>\n",
       "      <td>1.0</td>\n",
       "      <td>0.000018</td>\n",
       "      <td>0.192528</td>\n",
       "      <td>0.186709</td>\n",
       "      <td>0.000000</td>\n",
       "      <td>0.520904</td>\n",
       "      <td>0.521739</td>\n",
       "      <td>0.000000</td>\n",
       "      <td>0.534946</td>\n",
       "      <td>0.287791</td>\n",
       "      <td>...</td>\n",
       "      <td>0.0</td>\n",
       "      <td>0.0</td>\n",
       "      <td>0.0</td>\n",
       "      <td>0.0</td>\n",
       "      <td>0.0</td>\n",
       "      <td>0.0</td>\n",
       "      <td>0.0</td>\n",
       "      <td>0.0</td>\n",
       "      <td>0.0</td>\n",
       "      <td>0.0</td>\n",
       "    </tr>\n",
       "    <tr>\n",
       "      <td>3043</td>\n",
       "      <td>0.0</td>\n",
       "      <td>0.000030</td>\n",
       "      <td>0.164322</td>\n",
       "      <td>0.920886</td>\n",
       "      <td>0.523962</td>\n",
       "      <td>1.000000</td>\n",
       "      <td>0.000000</td>\n",
       "      <td>0.000000</td>\n",
       "      <td>0.000000</td>\n",
       "      <td>0.203488</td>\n",
       "      <td>...</td>\n",
       "      <td>0.0</td>\n",
       "      <td>0.0</td>\n",
       "      <td>1.0</td>\n",
       "      <td>0.0</td>\n",
       "      <td>0.0</td>\n",
       "      <td>0.0</td>\n",
       "      <td>0.0</td>\n",
       "      <td>0.0</td>\n",
       "      <td>0.0</td>\n",
       "      <td>0.0</td>\n",
       "    </tr>\n",
       "    <tr>\n",
       "      <td>3044</td>\n",
       "      <td>1.0</td>\n",
       "      <td>0.000000</td>\n",
       "      <td>0.421820</td>\n",
       "      <td>0.164557</td>\n",
       "      <td>0.313099</td>\n",
       "      <td>0.932203</td>\n",
       "      <td>0.000000</td>\n",
       "      <td>0.000000</td>\n",
       "      <td>0.096774</td>\n",
       "      <td>0.058140</td>\n",
       "      <td>...</td>\n",
       "      <td>0.0</td>\n",
       "      <td>0.0</td>\n",
       "      <td>1.0</td>\n",
       "      <td>0.0</td>\n",
       "      <td>0.0</td>\n",
       "      <td>0.0</td>\n",
       "      <td>0.0</td>\n",
       "      <td>0.0</td>\n",
       "      <td>0.0</td>\n",
       "      <td>0.0</td>\n",
       "    </tr>\n",
       "  </tbody>\n",
       "</table>\n",
       "<p>3045 rows × 64 columns</p>\n",
       "</div>"
      ],
      "text/plain": [
       "      party  totalpop    income   service    office     drive   carpool  \\\n",
       "0       0.0  1.000000  0.354074  0.446203  0.654952  0.755932  0.331104   \n",
       "1       0.0  0.521624  0.344999  0.417722  0.648562  0.632768  0.290970   \n",
       "2       0.0  0.433955  0.337373  0.392405  0.619808  0.825989  0.371237   \n",
       "3       1.0  0.400262  0.335184  0.424051  0.738019  0.795480  0.367893   \n",
       "4       0.0  0.262875  0.228581  0.506329  0.769968  0.800000  0.307692   \n",
       "...     ...       ...       ...       ...       ...       ...       ...   \n",
       "3040    1.0  0.000017  0.335923  0.170886  0.760383  0.467797  0.324415   \n",
       "3041    1.0  0.000063  0.137758  0.493671  0.252396  0.696045  0.521739   \n",
       "3042    1.0  0.000018  0.192528  0.186709  0.000000  0.520904  0.521739   \n",
       "3043    0.0  0.000030  0.164322  0.920886  0.523962  1.000000  0.000000   \n",
       "3044    1.0  0.000000  0.421820  0.164557  0.313099  0.932203  0.000000   \n",
       "\n",
       "       transit  workathome  meancommute  ...   SD   TN   TX   UT   VA   VT  \\\n",
       "0     0.110211    0.137097     0.593023  ...  0.0  0.0  0.0  0.0  0.0  0.0   \n",
       "1     0.298217    0.112903     0.659884  ...  0.0  0.0  0.0  0.0  0.0  0.0   \n",
       "2     0.047002    0.088710     0.540698  ...  0.0  0.0  1.0  0.0  0.0  0.0   \n",
       "3     0.038898    0.158602     0.462209  ...  0.0  0.0  0.0  0.0  0.0  0.0   \n",
       "4     0.089141    0.115591     0.590116  ...  0.0  0.0  0.0  0.0  0.0  0.0   \n",
       "...        ...         ...          ...  ...  ...  ...  ...  ...  ...  ...   \n",
       "3040  0.000000    0.607527     0.651163  ...  0.0  0.0  0.0  0.0  0.0  0.0   \n",
       "3041  0.000000    0.102151     0.215116  ...  0.0  0.0  0.0  0.0  0.0  0.0   \n",
       "3042  0.000000    0.534946     0.287791  ...  0.0  0.0  0.0  0.0  0.0  0.0   \n",
       "3043  0.000000    0.000000     0.203488  ...  0.0  0.0  1.0  0.0  0.0  0.0   \n",
       "3044  0.000000    0.096774     0.058140  ...  0.0  0.0  1.0  0.0  0.0  0.0   \n",
       "\n",
       "       WA   WI   WV   WY  \n",
       "0     0.0  0.0  0.0  0.0  \n",
       "1     0.0  0.0  0.0  0.0  \n",
       "2     0.0  0.0  0.0  0.0  \n",
       "3     0.0  0.0  0.0  0.0  \n",
       "4     0.0  0.0  0.0  0.0  \n",
       "...   ...  ...  ...  ...  \n",
       "3040  0.0  0.0  0.0  0.0  \n",
       "3041  0.0  0.0  0.0  0.0  \n",
       "3042  0.0  0.0  0.0  0.0  \n",
       "3043  0.0  0.0  0.0  0.0  \n",
       "3044  0.0  0.0  0.0  0.0  \n",
       "\n",
       "[3045 rows x 64 columns]"
      ]
     },
     "execution_count": 2,
     "metadata": {},
     "output_type": "execute_result"
    }
   ],
   "source": [
    "# import dataset\n",
    "\n",
    "data = pd.read_csv('features_v3.csv')\n",
    "data"
   ]
  },
  {
   "cell_type": "code",
   "execution_count": 3,
   "metadata": {},
   "outputs": [],
   "source": [
    "from sklearn.model_selection import train_test_split\n",
    "\n",
    "X = data[['totalpop', 'income', 'service', 'office', 'drive', 'carpool',\n",
    "       'transit', 'workathome', 'meancommute', 'unemployment',\n",
    "       'perc_men', 'perc_white', 'perc_private_work', 'perc_citizen', 'AL',\n",
    "       'AR', 'AZ', 'CA', 'CO', 'CT', 'DC', 'DE', 'FL', 'GA', 'HI', 'IA', 'ID',\n",
    "       'IL', 'IN', 'KS', 'KY', 'MA', 'MD', 'ME', 'MI', 'MN', 'MO', 'MS', 'MT',\n",
    "       'NC', 'ND', 'NE', 'NH', 'NJ', 'NM', 'NV', 'NY', 'OH', 'OK', 'OR', 'PA',\n",
    "       'RI', 'SC', 'SD', 'TN', 'TX', 'UT', 'VA', 'VT', 'WA', 'WI', 'WV', 'WY']]\n",
    "y = data['party']\n",
    "\n",
    "X_train, X_test, y_train, y_test = train_test_split(X, y, test_size=0.2)"
   ]
  },
  {
   "cell_type": "markdown",
   "metadata": {},
   "source": [
    "# Logistic Regression"
   ]
  },
  {
   "cell_type": "markdown",
   "metadata": {},
   "source": [
    "### Implement Logistic Regression"
   ]
  },
  {
   "cell_type": "code",
   "execution_count": 8,
   "metadata": {},
   "outputs": [
    {
     "name": "stderr",
     "output_type": "stream",
     "text": [
      "/Users/soujanyaibm.com/opt/anaconda3/lib/python3.7/site-packages/sklearn/linear_model/logistic.py:432: FutureWarning: Default solver will be changed to 'lbfgs' in 0.22. Specify a solver to silence this warning.\n",
      "  FutureWarning)\n"
     ]
    },
    {
     "data": {
      "text/plain": [
       "LogisticRegression(C=1.0, class_weight=None, dual=False, fit_intercept=True,\n",
       "                   intercept_scaling=1, l1_ratio=None, max_iter=100,\n",
       "                   multi_class='warn', n_jobs=None, penalty='l2',\n",
       "                   random_state=None, solver='warn', tol=0.0001, verbose=0,\n",
       "                   warm_start=False)"
      ]
     },
     "execution_count": 8,
     "metadata": {},
     "output_type": "execute_result"
    }
   ],
   "source": [
    "from sklearn.linear_model import LogisticRegression\n",
    "model = LogisticRegression()\n",
    "\n",
    "model.fit(X_train, y_train)"
   ]
  },
  {
   "cell_type": "markdown",
   "metadata": {},
   "source": [
    "### Predict"
   ]
  },
  {
   "cell_type": "code",
   "execution_count": 9,
   "metadata": {},
   "outputs": [],
   "source": [
    "y_pred = model.predict(X_test)"
   ]
  },
  {
   "cell_type": "markdown",
   "metadata": {},
   "source": [
    "### Evaluation"
   ]
  },
  {
   "cell_type": "code",
   "execution_count": 10,
   "metadata": {},
   "outputs": [
    {
     "data": {
      "text/plain": [
       "0.9178981937602627"
      ]
     },
     "execution_count": 10,
     "metadata": {},
     "output_type": "execute_result"
    }
   ],
   "source": [
    "model.score(X_test, y_test)"
   ]
  },
  {
   "cell_type": "code",
   "execution_count": 11,
   "metadata": {},
   "outputs": [
    {
     "name": "stdout",
     "output_type": "stream",
     "text": [
      "[[ 62  43]\n",
      " [  7 497]]\n"
     ]
    }
   ],
   "source": [
    "from sklearn.metrics import confusion_matrix\n",
    "confusion_matrix = confusion_matrix(y_test, y_pred)\n",
    "print(confusion_matrix)"
   ]
  },
  {
   "cell_type": "markdown",
   "metadata": {},
   "source": [
    "# Neural Network"
   ]
  },
  {
   "cell_type": "code",
   "execution_count": 12,
   "metadata": {},
   "outputs": [
    {
     "data": {
      "text/plain": [
       "(3045, 63)"
      ]
     },
     "execution_count": 12,
     "metadata": {},
     "output_type": "execute_result"
    }
   ],
   "source": [
    "X.shape # 14 node input layer"
   ]
  },
  {
   "cell_type": "code",
   "execution_count": 13,
   "metadata": {},
   "outputs": [],
   "source": [
    "# 24 node dense layer with sigmoid activation\n",
    "# sigmoid output layer"
   ]
  },
  {
   "cell_type": "markdown",
   "metadata": {},
   "source": [
    "### Implement Neural Network"
   ]
  },
  {
   "cell_type": "code",
   "execution_count": 15,
   "metadata": {},
   "outputs": [
    {
     "name": "stdout",
     "output_type": "stream",
     "text": [
      "Epoch 1/1\n",
      "2436/2436 [==============================] - 0s 97us/step - loss: 0.4759 - binary_accuracy: 0.8190 - auc_2: 0.5704\n"
     ]
    },
    {
     "data": {
      "text/plain": [
       "<keras.callbacks.callbacks.History at 0x14b1c3390>"
      ]
     },
     "execution_count": 15,
     "metadata": {},
     "output_type": "execute_result"
    }
   ],
   "source": [
    "from keras.layers import Dense\n",
    "from keras.layers import Input\n",
    "from keras.models import Sequential\n",
    "import keras.optimizers\n",
    "import keras.metrics as metrics\n",
    "\n",
    "model = Sequential()\n",
    "model.add(Dense(63, input_dim=63, activation='relu'))\n",
    "model.add(Dense(20, activation='relu'))\n",
    "model.add(Dense(1, activation='sigmoid'))\n",
    "\n",
    "model.compile(optimizer='adam', loss='binary_crossentropy', metrics=[metrics.BinaryAccuracy(),metrics.AUC()])\n",
    "\n",
    "model.fit(X_train, y_train)"
   ]
  },
  {
   "cell_type": "markdown",
   "metadata": {},
   "source": [
    "### Predict & Evaluate"
   ]
  },
  {
   "cell_type": "code",
   "execution_count": 16,
   "metadata": {},
   "outputs": [
    {
     "name": "stdout",
     "output_type": "stream",
     "text": [
      "609/609 [==============================] - 0s 91us/step\n"
     ]
    }
   ],
   "source": [
    "test_loss, test_acc = model.evaluate(X_test, y_test)[:2]"
   ]
  },
  {
   "cell_type": "code",
   "execution_count": 17,
   "metadata": {},
   "outputs": [
    {
     "name": "stdout",
     "output_type": "stream",
     "text": [
      "0.4136776596258818 0.8275862336158752\n"
     ]
    }
   ],
   "source": [
    "print(test_loss, test_acc)"
   ]
  },
  {
   "cell_type": "markdown",
   "metadata": {},
   "source": [
    "# Conclusion"
   ]
  },
  {
   "cell_type": "markdown",
   "metadata": {},
   "source": [
    "Logistic regression model accuracy improved to 0.92 by using normalized column data and state dummy variables, but neural network performance didn't approve. Thus, final model definition will be Logistic Regression model using above dataset and trained on different downsampling of republican counties, since it is an unbalanced dataset."
   ]
  },
  {
   "cell_type": "code",
   "execution_count": null,
   "metadata": {},
   "outputs": [],
   "source": []
  }
 ],
 "metadata": {
  "kernelspec": {
   "display_name": "Python 3",
   "language": "python",
   "name": "python3"
  },
  "language_info": {
   "codemirror_mode": {
    "name": "ipython",
    "version": 3
   },
   "file_extension": ".py",
   "mimetype": "text/x-python",
   "name": "python",
   "nbconvert_exporter": "python",
   "pygments_lexer": "ipython3",
   "version": "3.7.4"
  }
 },
 "nbformat": 4,
 "nbformat_minor": 2
}
